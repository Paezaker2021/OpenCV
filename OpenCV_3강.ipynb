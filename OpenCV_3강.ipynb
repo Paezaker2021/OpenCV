{
 "cells": [
  {
   "cell_type": "markdown",
   "metadata": {
    "id": "h3qL4xNDp1jO"
   },
   "source": [
    "# Python OpenCV 입문 - OpenCV 프로그래밍 기초\n",
    "## Basic2\n",
    "---\n",
    "---\n",
    "### 1. 데이터 타입 확인하기"
   ]
  },
  {
   "cell_type": "markdown",
   "metadata": {
    "id": "bH_5L7kMp1jP"
   },
   "source": [
    "* 데이터 shape\n",
    "* 데이터 size\n",
    "* 데이터 dtype"
   ]
  },
  {
   "cell_type": "code",
   "execution_count": 1,
   "metadata": {
    "id": "7yBOOqbPp1jQ"
   },
   "outputs": [
    {
     "name": "stdout",
     "output_type": "stream",
     "text": [
      "(342, 548, 3)\n",
      "562248\n",
      "uint8\n"
     ]
    }
   ],
   "source": [
    "import cv2\n",
    "\n",
    "img = cv2.imread('data/messi5.jpg')\n",
    "\n",
    "print(img.shape)\n",
    "print(img.size)\n",
    "print(img.dtype)"
   ]
  },
  {
   "cell_type": "markdown",
   "metadata": {
    "id": "j0S1ELTUp1jQ"
   },
   "source": [
    "---\n",
    "### 2. 이미지 나누고 합치기\n",
    "* 이미지 나누기\n",
    "* 이미지 합치기"
   ]
  },
  {
   "cell_type": "code",
   "execution_count": 2,
   "metadata": {
    "id": "YBRpeMlMp1jR"
   },
   "outputs": [],
   "source": [
    "import cv2\n",
    "\n",
    "img = cv2.imread('data/messi5.jpg')\n",
    "\n",
    "b,g,r = cv2.split(img)\n",
    "\n",
    "cv2.imshow('b', b)\n",
    "cv2.imshow('g', g)\n",
    "cv2.imshow('r', r)\n",
    "\n",
    "img = cv2.merge((b,g,r))\n",
    "\n",
    "cv2.imshow('image',img)\n",
    "cv2.waitKey()\n",
    "cv2.destroyAllWindows()"
   ]
  },
  {
   "cell_type": "markdown",
   "metadata": {
    "id": "3PI1UrKBp1jR"
   },
   "source": [
    "---\n",
    "### 3. 이미지 리사이즈를 이용한 합치기\n",
    "* 이미지 합치기\n",
    "* 이미지 리사이즈"
   ]
  },
  {
   "cell_type": "code",
   "execution_count": null,
   "metadata": {
    "id": "2FSIqbldp1jR"
   },
   "outputs": [],
   "source": [
    "import cv2\n",
    "\n",
    "img = cv2.imread('data/messi5.jpg')\n",
    "img2 = cv2.imread('data/opencv-logo.png')\n",
    "\n",
    "ball = img[280:340, 330:390]\n",
    "img[273:333, 100:160] = ball\n",
    "\n",
    "img = cv2.resize(img, (512, 512))\n",
    "img2 = cv2.resize(img2, (512,512))\n",
    "\n",
    "dst = cv2.addWeighted(img, .9, img2, .1, 0)\n",
    "cv2.imshow('image',dst)\n",
    "cv2.waitKey()\n",
    "cv2.destroyAllWindows()"
   ]
  },
  {
   "cell_type": "markdown",
   "metadata": {
    "id": "V1fcn2Nip1jR"
   },
   "source": [
    "---\n",
    "### 4. bitwise 연산\n",
    "* and 연산\n",
    "* or 연산\n",
    "* Xor 연산\n",
    "* Not 연산"
   ]
  },
  {
   "cell_type": "code",
   "execution_count": null,
   "metadata": {
    "id": "fQFN1141p1jS"
   },
   "outputs": [],
   "source": [
    "from IPython.display import Image \n",
    "Image(\"data/bitwise.png\")"
   ]
  },
  {
   "cell_type": "code",
   "execution_count": null,
   "metadata": {
    "id": "aSvKrJd9p1jS"
   },
   "outputs": [],
   "source": [
    "import cv2\n",
    "import numpy as np\n",
    "\n",
    "img1 = np.zeros((250, 500, 3), np.uint8)\n",
    "img1 = cv2.rectangle(img1, (200,0), (300,100),(255,255,255), -1)\n",
    "img2 = np.zeros((250, 500, 3), np.uint8)\n",
    "img2 = cv2.rectangle(img2, (250,0), (500,250), (255,255,255), -1)\n",
    "\n",
    "bitAnd = cv2.bitwise_and(img2, img1)\n",
    "bitOr = cv2.bitwise_or(img2, img1)\n",
    "bitXor = cv2.bitwise_xor(img1, img2)\n",
    "bitNot1 = cv2.bitwise_not(img1)\n",
    "bitNot2 = cv2.bitwise_not(img2)\n",
    "\n",
    "cv2.imshow(\"img1\", img1)\n",
    "cv2.imshow(\"img2\", img2)\n",
    "cv2.imshow('bitAnd', bitAnd)\n",
    "cv2.imshow('bitOr', bitOr)\n",
    "cv2.imshow('bitXor', bitXor)\n",
    "cv2.imshow('bitNot1', bitNot1)\n",
    "cv2.imshow('bitNot2', bitNot2)\n",
    "\n",
    "cv2.waitKey(0)\n",
    "cv2.destroyAllWindows()"
   ]
  },
  {
   "cell_type": "markdown",
   "metadata": {
    "id": "zLkaSIULp1jS"
   },
   "source": [
    "---\n",
    "### 5.Trackbar\n",
    "* 트랙바 만들기\n",
    "* 트랙바로 배경화면 색상 바꾸기"
   ]
  },
  {
   "cell_type": "code",
   "execution_count": null,
   "metadata": {
    "id": "vmlOicMbp1jS"
   },
   "outputs": [],
   "source": [
    "import numpy as np\n",
    "import cv2 as cv\n",
    "\n",
    "def nothing(x):\n",
    "    print(x)\n",
    "\n",
    "# Create a black image, a window\n",
    "img = np.zeros((300,512,3), np.uint8)\n",
    "cv.namedWindow('image')\n",
    "\n",
    "cv.createTrackbar('B', 'image', 0, 255, nothing)\n",
    "cv.createTrackbar('G', 'image', 0, 255, nothing)\n",
    "cv.createTrackbar('R', 'image', 0, 255, nothing)\n",
    "\n",
    "switch = '0 : OFF\\n 1 : ON'\n",
    "cv.createTrackbar(switch, 'image', 0, 1, nothing)\n",
    "\n",
    "while(1):\n",
    "    cv.imshow('image',img)\n",
    "    k = cv.waitKey(1) & 0xFF\n",
    "    if k == 27:\n",
    "        break\n",
    "\n",
    "    b = cv.getTrackbarPos('B', 'image')\n",
    "    g = cv.getTrackbarPos('G', 'image')\n",
    "    r = cv.getTrackbarPos('R', 'image')\n",
    "    s = cv.getTrackbarPos(switch, 'image')\n",
    "\n",
    "    if s == 0:\n",
    "       img[:] = 0\n",
    "    else:\n",
    "       img[:] = [b, g, r]\n",
    "\n",
    "\n",
    "cv.destroyAllWindows()"
   ]
  },
  {
   "cell_type": "markdown",
   "metadata": {
    "id": "NLhC4PJpp1jT"
   },
   "source": [
    "---\n",
    "* 트랙바 포지션 값 이미지에 띄우기"
   ]
  },
  {
   "cell_type": "code",
   "execution_count": null,
   "metadata": {
    "id": "RxYv-2hop1jT"
   },
   "outputs": [],
   "source": [
    "import numpy as np\n",
    "import cv2 as cv\n",
    "\n",
    "def nothing(x):\n",
    "    print(x)\n",
    "\n",
    "# Create a black image, a window\n",
    "cv.namedWindow('image')\n",
    "\n",
    "cv.createTrackbar('CP', 'image', 10, 400, nothing)\n",
    "\n",
    "switch = 'color/gray'\n",
    "cv.createTrackbar(switch, 'image', 0, 1, nothing)\n",
    "\n",
    "while(1):\n",
    "    img = cv.imread('data/lena.jpg')\n",
    "    pos = cv.getTrackbarPos('CP', 'image')\n",
    "    font = cv.FONT_HERSHEY_SIMPLEX\n",
    "    cv.putText(img, str(pos), (50, 150), font, 6, (0, 0, 255), 10)\n",
    "\n",
    "    k = cv.waitKey(1) & 0xFF\n",
    "    if k == 27:\n",
    "        break\n",
    "\n",
    "    s = cv.getTrackbarPos(switch, 'image')\n",
    "\n",
    "    if s == 0:\n",
    "       pass\n",
    "    else:\n",
    "       img = cv.cvtColor(img, cv.COLOR_BGR2GRAY)\n",
    "\n",
    "    img = cv.imshow('image',img)\n",
    "\n",
    "cv.destroyAllWindows()"
   ]
  },
  {
   "cell_type": "markdown",
   "metadata": {
    "id": "yHSPgBRbp1jU"
   },
   "source": [
    "---\n",
    "---\n",
    "## 이미지 처리\n",
    "### 1. HSV란?\n",
    "* 색을 표현하는 하나의 방법\n",
    "* 색상(Hue), 채도(Saturation), 명도(Value)의 좌표로 이루어짐"
   ]
  },
  {
   "cell_type": "code",
   "execution_count": null,
   "metadata": {
    "id": "t5tdkZw9p1jU"
   },
   "outputs": [],
   "source": [
    "from IPython.display import Image \n",
    "Image(\"data/hsv.jpg\")"
   ]
  },
  {
   "cell_type": "markdown",
   "metadata": {
    "id": "qpVdguAXp1jU"
   },
   "source": [
    "* 색상값은 각도로 표현되며 지정한 색이 원기둥의 수평 단면의 어느 방향에 위치하는지를 지정한다.\n",
    "* 채도는 반지름에 해당하며 정 중앙에 무채색이 위치하며 원기둥의 겉면은 가장 진한 채도를 갖는다.\n",
    "* 명도는 높이에 해당하며 위로 갈수록 색이 밝다."
   ]
  },
  {
   "cell_type": "markdown",
   "metadata": {
    "id": "lVt2lfXtp1jU"
   },
   "source": [
    "---\n",
    "### 2. Detecting Object by HSV\n",
    "* HSV 값을 이용하여 이미지 내 물체 감지하기"
   ]
  },
  {
   "cell_type": "code",
   "execution_count": null,
   "metadata": {
    "id": "uCIH4sLcp1jU"
   },
   "outputs": [],
   "source": [
    "import cv2\n",
    "import numpy as np\n",
    "\n",
    "def nothing(x):\n",
    "    pass\n",
    "\n",
    "cv2.namedWindow(\"Tracking\")\n",
    "cv2.createTrackbar(\"LH\", \"Tracking\", 0, 255, nothing)\n",
    "cv2.createTrackbar(\"LS\", \"Tracking\", 0, 255, nothing)\n",
    "cv2.createTrackbar(\"LV\", \"Tracking\", 0, 255, nothing)\n",
    "cv2.createTrackbar(\"UH\", \"Tracking\", 255, 255, nothing)\n",
    "cv2.createTrackbar(\"US\", \"Tracking\", 255, 255, nothing)\n",
    "cv2.createTrackbar(\"UV\", \"Tracking\", 255, 255, nothing)\n",
    "\n",
    "while True:\n",
    "    frame = cv2.imread('data/smarties.png')\n",
    "\n",
    "    hsv = cv2.cvtColor(frame, cv2.COLOR_BGR2HSV)\n",
    "\n",
    "    l_h = cv2.getTrackbarPos(\"LH\", \"Tracking\")\n",
    "    l_s = cv2.getTrackbarPos(\"LS\", \"Tracking\")\n",
    "    l_v = cv2.getTrackbarPos(\"LV\", \"Tracking\")\n",
    "\n",
    "    u_h = cv2.getTrackbarPos(\"UH\", \"Tracking\")\n",
    "    u_s = cv2.getTrackbarPos(\"US\", \"Tracking\")\n",
    "    u_v = cv2.getTrackbarPos(\"UV\", \"Tracking\")\n",
    "\n",
    "    l_b = np.array([l_h, l_s, l_v])\n",
    "    u_b = np.array([u_h, u_s, u_v])\n",
    "\n",
    "    mask = cv2.inRange(hsv, l_b, u_b)\n",
    "\n",
    "    res = cv2.bitwise_and(frame, frame, mask=mask)\n",
    "\n",
    "    cv2.imshow(\"frame\", frame)\n",
    "    cv2.imshow(\"mask\", mask)\n",
    "    cv2.imshow(\"res\", res)\n",
    "\n",
    "    key = cv2.waitKey(1)\n",
    "    if key == 27:\n",
    "        break\n",
    "\n",
    "cv2.destroyAllWindows()\n",
    "    "
   ]
  },
  {
   "cell_type": "markdown",
   "metadata": {
    "id": "NuNh1W3Gp1jU"
   },
   "source": [
    "---\n",
    "* 영상 내 물체 감지하기"
   ]
  },
  {
   "cell_type": "code",
   "execution_count": null,
   "metadata": {
    "id": "pNrof5Iwp1jV"
   },
   "outputs": [],
   "source": [
    "import cv2\n",
    "import numpy as np\n",
    "\n",
    "def nothing(x):\n",
    "    pass\n",
    "\n",
    "cap = cv2.VideoCapture(0);\n",
    "\n",
    "cv2.namedWindow(\"Tracking\")\n",
    "cv2.createTrackbar(\"LH\", \"Tracking\", 0, 255, nothing)\n",
    "cv2.createTrackbar(\"LS\", \"Tracking\", 0, 255, nothing)\n",
    "cv2.createTrackbar(\"LV\", \"Tracking\", 0, 255, nothing)\n",
    "cv2.createTrackbar(\"UH\", \"Tracking\", 255, 255, nothing)\n",
    "cv2.createTrackbar(\"US\", \"Tracking\", 255, 255, nothing)\n",
    "cv2.createTrackbar(\"UV\", \"Tracking\", 255, 255, nothing)\n",
    "\n",
    "while True:\n",
    "    #frame = cv2.imread('smarties.png')\n",
    "    _, frame = cap.read()\n",
    "\n",
    "    hsv = cv2.cvtColor(frame, cv2.COLOR_BGR2HSV)\n",
    "\n",
    "    l_h = cv2.getTrackbarPos(\"LH\", \"Tracking\")\n",
    "    l_s = cv2.getTrackbarPos(\"LS\", \"Tracking\")\n",
    "    l_v = cv2.getTrackbarPos(\"LV\", \"Tracking\")\n",
    "\n",
    "    u_h = cv2.getTrackbarPos(\"UH\", \"Tracking\")\n",
    "    u_s = cv2.getTrackbarPos(\"US\", \"Tracking\")\n",
    "    u_v = cv2.getTrackbarPos(\"UV\", \"Tracking\")\n",
    "\n",
    "    l_b = np.array([l_h, l_s, l_v])\n",
    "    u_b = np.array([u_h, u_s, u_v])\n",
    "\n",
    "    mask = cv2.inRange(hsv, l_b, u_b)\n",
    "\n",
    "    res = cv2.bitwise_and(frame, frame, mask=mask)\n",
    "\n",
    "    cv2.imshow(\"frame\", frame)\n",
    "    cv2.imshow(\"mask\", mask)\n",
    "    cv2.imshow(\"res\", res)\n",
    "\n",
    "    key = cv2.waitKey(1)\n",
    "    if key == 27:\n",
    "        break\n",
    "\n",
    "cap.release()\n",
    "cv2.destroyAllWindows()"
   ]
  },
  {
   "cell_type": "markdown",
   "metadata": {
    "id": "zzirt34bp1jV"
   },
   "source": [
    "---\n",
    "### 3. Simple Threshold\n",
    "* 임계처리를 하여 이미지를 이진화 할 수 있다.\n",
    "* 임계값보다 작으면 흑, 크면 백이 된다.\n",
    "\n",
    "    * cv2.THRESH_BINARY: threshold보다 크면 value이고 아니면 0으로 바꾸어 줍니다. \n",
    "\n",
    "    * cv2.THRESH_BINARY_INV: threshold보다 크면 0이고 아니면 value로 바꾸어 줍니다.   \n",
    "\n",
    "    * cv2.THRESH_TRUNC: threshold보다 크면 value로 지정하고 작으면 기존의 값 그대로 사용한다. \n",
    "\n",
    "    * cv2.THRESH_TOZERO: treshold_value보다 크면 픽셀 값 그대로 작으면 0으로 할당한다. \n",
    "\n",
    "    * cv2.THRESH_TOZERO_INV: threshold_value보다 크면 0으로 작으면 그대로 할당해준다. \n"
   ]
  },
  {
   "cell_type": "code",
   "execution_count": null,
   "metadata": {
    "id": "7sCjCLyOp1jV"
   },
   "outputs": [],
   "source": [
    "import cv2 as cv\n",
    "import numpy as np\n",
    "\n",
    "img = cv.imread('data/gradient.png',0)\n",
    "_, th1 = cv.threshold(img, 50, 255, cv.THRESH_BINARY)\n",
    "_, th2 = cv.threshold(img, 200, 255, cv.THRESH_BINARY_INV)\n",
    "_, th3 = cv.threshold(img, 127, 255, cv.THRESH_TRUNC)\n",
    "_, th4 = cv.threshold(img, 127, 255, cv.THRESH_TOZERO)\n",
    "_, th5 = cv.threshold(img, 127, 255, cv.THRESH_TOZERO_INV)\n",
    "\n",
    "\n",
    "cv.imshow(\"Image\", img)\n",
    "cv.imshow(\"th1\", th1)\n",
    "cv.imshow(\"th2\", th2)\n",
    "cv.imshow(\"th3\", th3)\n",
    "cv.imshow(\"th4\", th4)\n",
    "cv.imshow(\"th5\", th5)\n",
    "\n",
    "cv.waitKey(0)\n",
    "cv.destroyAllWindows()"
   ]
  },
  {
   "cell_type": "markdown",
   "metadata": {
    "id": "6RQW6Mptp1jV"
   },
   "source": [
    "---\n",
    "### 4. Adaptive Threshold\n",
    "* 구역별로 thresholding 값을 구해줘서 적용시키는 방법 "
   ]
  },
  {
   "cell_type": "code",
   "execution_count": null,
   "metadata": {
    "id": "3xGtXo7op1jW"
   },
   "outputs": [],
   "source": [
    "import cv2 as cv\n",
    "import numpy as np\n",
    "\n",
    "img = cv.imread('data/sudoku.png',0)\n",
    "_, th1 = cv.threshold(img, 127, 255, cv.THRESH_BINARY)\n",
    "th2 = cv.adaptiveThreshold(img, 255, cv.ADAPTIVE_THRESH_MEAN_C, cv.THRESH_BINARY, 11, 2);\n",
    "th3 = cv.adaptiveThreshold(img, 255, cv.ADAPTIVE_THRESH_GAUSSIAN_C, cv.THRESH_BINARY, 11, 2);\n",
    "\n",
    "cv.imshow(\"Image\", img)\n",
    "cv.imshow(\"THRESH_BINARY\", th1)\n",
    "cv.imshow(\"ADAPTIVE_THRESH_MEAN_C\", th2)\n",
    "cv.imshow(\"ADAPTIVE_THRESH_GAUSSIAN_C\", th3)\n",
    "\n",
    "cv.waitKey(0)\n",
    "cv.destroyAllWindows()"
   ]
  },
  {
   "cell_type": "markdown",
   "metadata": {
    "id": "td5Xue94p1jW"
   },
   "source": [
    "---\n",
    "### 5. Matplotlib\n",
    "* 그래프를 쉽게 그릴 수 있는 라이브러리 : matplotlib\n",
    "* matplotlib 설치하기"
   ]
  },
  {
   "cell_type": "code",
   "execution_count": null,
   "metadata": {
    "id": "ysFoS2w0p1jW"
   },
   "outputs": [],
   "source": [
    "!pip install matplotlib"
   ]
  },
  {
   "cell_type": "markdown",
   "metadata": {
    "id": "G2x80Wsfp1jW"
   },
   "source": [
    "* matplotlib으로 이미지 띄우기"
   ]
  },
  {
   "cell_type": "code",
   "execution_count": null,
   "metadata": {
    "id": "s_w3MIqEp1jW"
   },
   "outputs": [],
   "source": [
    "import cv2\n",
    "from matplotlib import pyplot as plt\n",
    "\n",
    "img = cv2.imread('data/lena.jpg', -1)\n",
    "#cv2.imshow('image', img)\n",
    "img = cv2.cvtColor(img, cv2.COLOR_BGR2RGB)\n",
    "\n",
    "plt.imshow(img)\n",
    "plt.xticks([]), plt.yticks([])\n",
    "plt.show()\n",
    "\n",
    "cv2.waitKey(0)\n",
    "cv2.destroyAllWindows()"
   ]
  },
  {
   "cell_type": "markdown",
   "metadata": {
    "id": "YHtElPB2p1jW"
   },
   "source": [
    "* matplotlib으로 여러장의 이미지 한번에 띄우기"
   ]
  },
  {
   "cell_type": "code",
   "execution_count": null,
   "metadata": {
    "id": "uyVGgZCjp1jW"
   },
   "outputs": [],
   "source": [
    "import cv2 as cv\n",
    "import numpy as np\n",
    "from matplotlib import pyplot as plt\n",
    "\n",
    "img = cv.imread('data/gradient.png',0)\n",
    "_, th1 = cv.threshold(img, 50, 255, cv.THRESH_BINARY)\n",
    "_, th2 = cv.threshold(img, 200, 255, cv.THRESH_BINARY_INV)\n",
    "_, th3 = cv.threshold(img, 127, 255, cv.THRESH_TRUNC)\n",
    "_, th4 = cv.threshold(img, 127, 255, cv.THRESH_TOZERO)\n",
    "_, th5 = cv.threshold(img, 127, 255, cv.THRESH_TOZERO_INV)\n",
    "\n",
    "titles = ['Original Image','BINARY','BINARY_INV','TRUNC','TOZERO','TOZERO_INV']\n",
    "images = [img, th1 ,th2 ,th3 ,th4, th5]\n",
    "\n",
    "for i in range(6):\n",
    "    plt.subplot(2, 3, i+1), plt.imshow(images[i], 'gray')\n",
    "    plt.title(titles[i])\n",
    "    plt.xticks([]),plt.yticks([])\n",
    "#cv.imshow(\"Image\", img)\n",
    "#cv.imshow(\"th1\", th1)\n",
    "#cv.imshow(\"th2\", th2)\n",
    "#cv.imshow(\"th3\", th3)\n",
    "#cv.imshow(\"th4\", th4)\n",
    "#cv.imshow(\"th5\", th5)\n",
    "plt.show()\n",
    "#cv.waitKey(0)\n",
    "#cv.destroyAllWindows()"
   ]
  },
  {
   "cell_type": "markdown",
   "metadata": {
    "id": "OQjd7EOyp1jW"
   },
   "source": [
    "---\n",
    "### 6. Morphological Transformation\n",
    "* 형태 변형은 이미지 모양을 기반으로 하는 몇가지 간단한 동작을 말함\n",
    "* 동작을 위해서는 두 개의 입력이 필요\n",
    "* 이미지와 구조 요소(커널)이 필요\n",
    "* 커널은 동작의 형태를 지정하는 요소"
   ]
  },
  {
   "cell_type": "markdown",
   "metadata": {
    "id": "mCyXIzJcp1jX"
   },
   "source": [
    "    * Dilation(팽창 효과)\n",
    "    > 커널 아래 하나의 픽셀이 1이면 1을 반환함\n",
    "    > 객체의 크기가 커지는 효과\n",
    "    > 객체를 강조하는 효과\n",
    "    > 객체의 깨진 부분을 메우는데 유용하게 사용됨\n",
    "    \n",
    "    * Erosion(침식 효과)\n",
    "    > 커널의 모든 픽셀이 1일 때만 1을 반환함\n",
    "    > 객체의 크기가 줄어든 효과\n",
    "    > 화이트 노이즈를 제거하는 효과\n",
    "    > 객체를 분리하는데 유용\n",
    "    \n",
    "    * Opening(열림 효과)\n",
    "    > 팽창 효과를 먼저 적용하고 침식 효과를 적용\n",
    "    > 노이즈를 제거하는 용도로 많이 쓰임\n",
    "    \n",
    "    * Closing(닫힘 효과)\n",
    "    > 침식 효과를 먼저 적용하고 팽창 효과를 적용\n",
    "    > 작은 점들을 없앨 떄 유용함\n",
    "    \n",
    "    * Gradient\n",
    "    > 팽창 효과와 침식 효과의 차이\n",
    "    \n",
    "    * TopHat\n",
    "    > 원본 이미지와 열림 효과의 차이"
   ]
  },
  {
   "cell_type": "code",
   "execution_count": null,
   "metadata": {
    "id": "28J1JZFwp1jX"
   },
   "outputs": [],
   "source": [
    "import cv2\n",
    "import numpy as np\n",
    "from matplotlib import pyplot as plt\n",
    "\n",
    "img = cv2.imread('data/smarties.png', cv2.IMREAD_GRAYSCALE)\n",
    "_, mask = cv2.threshold(img, 220, 255, cv2.THRESH_BINARY_INV)\n",
    "\n",
    "kernal = np.ones((5,5), np.uint8)\n",
    "\n",
    "dilation = cv2.dilate(mask, kernal, iterations=2)\n",
    "erosion = cv2.erode(mask, kernal, iterations=1)\n",
    "opening = cv2.morphologyEx(mask, cv2.MORPH_OPEN, kernal)\n",
    "closing = cv2.morphologyEx(mask, cv2.MORPH_CLOSE, kernal)\n",
    "mg = cv2.morphologyEx(mask, cv2.MORPH_GRADIENT, kernal)\n",
    "th = cv2.morphologyEx(mask, cv2.MORPH_TOPHAT, kernal)\n",
    "\n",
    "titles = ['image', 'mask', 'dilation', 'erosion', 'opening', 'closing', 'mg', 'th']\n",
    "images = [img, mask, dilation, erosion, opening, closing, mg, th]\n",
    "\n",
    "for i in range(8):\n",
    "    plt.subplot(2, 4, i+1), plt.imshow(images[i], 'gray')\n",
    "    plt.title(titles[i])\n",
    "    plt.xticks([]),plt.yticks([])\n",
    "\n",
    "plt.show()"
   ]
  },
  {
   "cell_type": "code",
   "execution_count": null,
   "metadata": {
    "id": "CP25-9Gkp1jX"
   },
   "outputs": [],
   "source": [
    "import cv2\n",
    "import numpy as np\n",
    "from matplotlib import pyplot as plt\n",
    "\n",
    "img = cv2.imread('data/j.png', cv2.IMREAD_GRAYSCALE)\n",
    "_, mask = cv2.threshold(img, 220, 255, cv2.THRESH_BINARY_INV)\n",
    "\n",
    "kernal = np.ones((5,5), np.uint8)\n",
    "\n",
    "dilation = cv2.dilate(mask, kernal, iterations=2)\n",
    "erosion = cv2.erode(mask, kernal, iterations=1)\n",
    "opening = cv2.morphologyEx(mask, cv2.MORPH_OPEN, kernal)\n",
    "closing = cv2.morphologyEx(mask, cv2.MORPH_CLOSE, kernal)\n",
    "mg = cv2.morphologyEx(mask, cv2.MORPH_GRADIENT, kernal)\n",
    "th = cv2.morphologyEx(mask, cv2.MORPH_TOPHAT, kernal)\n",
    "\n",
    "titles = ['image', 'mask', 'dilation', 'erosion', 'opening', 'closing', 'mg', 'th']\n",
    "images = [img, mask, dilation, erosion, opening, closing, mg, th]\n",
    "\n",
    "for i in range(8):\n",
    "    plt.subplot(2, 4, i+1), plt.imshow(images[i], 'gray')\n",
    "    plt.title(titles[i])\n",
    "    plt.xticks([]),plt.yticks([])\n",
    "\n",
    "plt.show()"
   ]
  },
  {
   "cell_type": "markdown",
   "metadata": {
    "id": "BPq2J1u_p1jX"
   },
   "source": [
    "---\n",
    "### 7. Smooting Image\n",
    "* 필터를 이용하여 이미지에 효과 적용"
   ]
  },
  {
   "cell_type": "markdown",
   "metadata": {
    "id": "EgC4Xglap1jX"
   },
   "source": [
    "* Blur : 흐리기\n",
    "* Average : 매끄러운 모습\n",
    "* Gaussian Blur : 안개효과\n",
    "* Median Blur : Outlier 에 강함\n",
    "* BilaterialFilter : 선명도 증가, 노이즈 감소"
   ]
  },
  {
   "cell_type": "code",
   "execution_count": null,
   "metadata": {
    "id": "HfELCk9hp1jX"
   },
   "outputs": [],
   "source": [
    "import cv2\n",
    "import numpy as np\n",
    "from matplotlib import pyplot as plt\n",
    "\n",
    "img = cv2.imread('data/lena.jpg')\n",
    "img = cv2.cvtColor(img, cv2.COLOR_BGR2RGB)\n",
    "\n",
    "kernel = np.ones((5, 5), np.float32)/25\n",
    "dst = cv2.filter2D(img, -1, kernel)\n",
    "blur = cv2.blur(img, (5, 5))\n",
    "gblur = cv2.GaussianBlur(img, (5, 5), 0)\n",
    "median = cv2.medianBlur(img, 5)\n",
    "bilateralFilter = cv2.bilateralFilter(img, 9, 75, 75)\n",
    "\n",
    "titles = ['image', '2D Convolution', 'blur', 'GaussianBlur', 'median', 'bilateralFilter']\n",
    "images = [img, dst, blur, gblur, median, bilateralFilter]\n",
    "\n",
    "for i in range(6):\n",
    "    plt.subplot(2, 3, i+1), plt.imshow(images[i], 'gray')\n",
    "    plt.title(titles[i])\n",
    "    plt.xticks([]),plt.yticks([])\n",
    "\n",
    "plt.show()"
   ]
  },
  {
   "cell_type": "markdown",
   "metadata": {
    "id": "Vap3b8Khp1jY"
   },
   "source": [
    "---\n",
    "### 8. Image Gradient 와 Edge 검출\n",
    "* 이미지의 강도 또는 색상의 방향 변화를 Image Gradient라고 한다.\n",
    "* Edge 검출을 하기 위해서는 Image Gradeinet를 알아야한다."
   ]
  },
  {
   "cell_type": "code",
   "execution_count": null,
   "metadata": {
    "id": "C9gmcisfp1jY"
   },
   "outputs": [],
   "source": [
    "import cv2\n",
    "import numpy as np\n",
    "from matplotlib import pyplot as plt\n",
    "\n",
    "img = cv2.imread(\"data/sudoku.png\", cv2.IMREAD_GRAYSCALE)\n",
    "lap = cv2.Laplacian(img, cv2.CV_64F, ksize=3)\n",
    "lap = np.uint8(np.absolute(lap))\n",
    "sobelX = cv2.Sobel(img, cv2.CV_64F, 1, 0)\n",
    "sobelY = cv2.Sobel(img, cv2.CV_64F, 0, 1)\n",
    "\n",
    "sobelX = np.uint8(np.absolute(sobelX))\n",
    "sobelY = np.uint8(np.absolute(sobelY))\n",
    "\n",
    "sobelCombined = cv2.bitwise_or(sobelX, sobelY)\n",
    "\n",
    "titles = ['image', 'Laplacian', 'sobelX', 'sobelY', 'sobelCombined']\n",
    "images = [img, lap, sobelX, sobelY, sobelCombined]\n",
    "for i in range(5):\n",
    "    plt.subplot(2, 3, i+1), plt.imshow(images[i], 'gray')\n",
    "    plt.title(titles[i])\n",
    "    plt.xticks([]),plt.yticks([])\n",
    "\n",
    "plt.show()"
   ]
  },
  {
   "cell_type": "markdown",
   "metadata": {
    "id": "sKcWgwuRp1jY"
   },
   "source": [
    "---\n",
    "### 9. Canny Edge Detector\n",
    "* 이미지에서 큰 부분의 외곽선을 감지하는 알고리즘\n",
    "* 가우시안 필터를 이용해서 노이즈 줄이기\n",
    "* 그라디언트 계산\n",
    "* Non Maximum suppression\n",
    "* Double Threshold\n",
    "* Edge Tracking by Hysteresis"
   ]
  },
  {
   "cell_type": "code",
   "execution_count": null,
   "metadata": {
    "id": "Hx5gE7_1p1jY"
   },
   "outputs": [],
   "source": [
    "import cv2\n",
    "import numpy as np\n",
    "from matplotlib import pyplot as plt\n",
    "\n",
    "img = cv2.imread(\"data/lena.jpg\")\n",
    "img = cv2.cvtColor(img, cv2.COLOR_BGR2RGB)\n",
    "canny = cv2.Canny(img, 100, 200)\n",
    "\n",
    "titles = ['image', 'canny']\n",
    "images = [img, canny]\n",
    "for i in range(2):\n",
    "    plt.subplot(1, 2, i+1), plt.imshow(images[i], 'gray')\n",
    "    plt.title(titles[i])\n",
    "    plt.xticks([]),plt.yticks([])\n",
    "\n",
    "plt.show()"
   ]
  },
  {
   "cell_type": "code",
   "execution_count": null,
   "metadata": {
    "id": "kCtiR2EPp1jY"
   },
   "outputs": [],
   "source": [
    "import cv2\n",
    "import numpy as np\n",
    "from matplotlib import pyplot as plt\n",
    "\n",
    "img = cv2.imread(\"data/messi5.jpg\", cv2.IMREAD_GRAYSCALE)\n",
    "lap = cv2.Laplacian(img, cv2.CV_64F, ksize=3)\n",
    "lap = np.uint8(np.absolute(lap))\n",
    "sobelX = cv2.Sobel(img, cv2.CV_64F, 1, 0)\n",
    "sobelY = cv2.Sobel(img, cv2.CV_64F, 0, 1)\n",
    "edges = cv2.Canny(img,100,200)\n",
    "\n",
    "sobelX = np.uint8(np.absolute(sobelX))\n",
    "sobelY = np.uint8(np.absolute(sobelY))\n",
    "\n",
    "sobelCombined = cv2.bitwise_or(sobelX, sobelY)\n",
    "\n",
    "titles = ['image', 'Laplacian', 'sobelX', 'sobelY', 'sobelCombined', 'Canny']\n",
    "images = [img, lap, sobelX, sobelY, sobelCombined, edges]\n",
    "for i in range(6):\n",
    "    plt.subplot(2, 3, i+1), plt.imshow(images[i], 'gray')\n",
    "    plt.title(titles[i])\n",
    "    plt.xticks([]),plt.yticks([])\n",
    "\n",
    "plt.show()"
   ]
  },
  {
   "cell_type": "markdown",
   "metadata": {
    "id": "DO8Zf-Kgp1jY"
   },
   "source": [
    "---\n",
    "### 10. Scale and Image Pyramids\n",
    "* Scale : 스케일에 따라서 물체를 어떻게 인식하는지 달라질 수 있음\n",
    "Ex) Scale이 큰 상태에서 숲을 보면 나무가 보이지만\n",
    "Scale이 작은 상태에서 숲을 보면 나뭇가지와 나뭇잎이 보임\n",
    "Scale이 커질 수록 이미지가 축소됨 -> Scale이 클수록 나뭇잎을 강조함\n",
    "* Image Pyramid : 이미지를의 크기를 단계적으로 생성한 이미지 집합\n"
   ]
  },
  {
   "cell_type": "code",
   "execution_count": null,
   "metadata": {
    "id": "KX0r88-7p1jY"
   },
   "outputs": [],
   "source": [
    "from IPython.display import Image \n",
    "Image(\"data/imagePyramids.jpg\")"
   ]
  },
  {
   "cell_type": "code",
   "execution_count": null,
   "metadata": {
    "id": "_QTyts-jp1jZ"
   },
   "outputs": [],
   "source": [
    "Image(\"data/imagePyramid.png\")"
   ]
  },
  {
   "cell_type": "markdown",
   "metadata": {
    "id": "wAsu_MbLp1jZ"
   },
   "source": [
    "* Scale Step : 여러 크기의 물체를 검출할 목적인 경우 스케일을 보통 1.1배(또는 1.05배)씩 증가시켜가면서 이미지 피라미드를 구성한다."
   ]
  },
  {
   "cell_type": "code",
   "execution_count": null,
   "metadata": {
    "id": "N08XZ-8vp1jZ"
   },
   "outputs": [],
   "source": [
    "import cv2\n",
    "import numpy as np\n",
    "from matplotlib import pyplot as plt\n",
    "\n",
    "img = cv2.imread('data/lena.jpg')\n",
    "lr1 = cv2.pyrDown(img)\n",
    "lr2 = cv2.pyrDown(lr1)\n",
    "hr2 = cv2.pyrUp(lr2)\n",
    "\n",
    "cv2.imshow('Original Image', img)\n",
    "cv2.imshow('pyrDown 1 image', lr1)\n",
    "cv2.imshow('pyrDown 2 image', lr2)\n",
    "cv2.imshow('pyrUp 1 image', hr2)\n",
    "\n",
    "cv2.waitKey(0)\n",
    "cv2.destroyAllWindows()"
   ]
  },
  {
   "cell_type": "markdown",
   "metadata": {
    "id": "uBl9AjRgp1jZ"
   },
   "source": [
    "* Gaussian Pyramids : 이미지 피라미드를 생성할 때, 일련의 블러링(blurring)과 다운 샘플링(sub sampling)을 통해 이미지를 1/2씩 축소시켜 가면서 피라미드를 생성하는 경우도 있다 (블러링->1/2축소->블러링->1/2축소->...)."
   ]
  },
  {
   "cell_type": "code",
   "execution_count": null,
   "metadata": {
    "id": "mgEHyW5Lp1jZ"
   },
   "outputs": [],
   "source": [
    "Image(\"data/gaussianPyramids.jpg\")"
   ]
  },
  {
   "cell_type": "code",
   "execution_count": null,
   "metadata": {
    "id": "RJNdnF3Zp1jZ"
   },
   "outputs": [],
   "source": [
    "import cv2\n",
    "import numpy as np\n",
    "img = cv2.imread('data/lena.jpg')\n",
    "layer = img.copy()\n",
    "gp = [layer]\n",
    "\n",
    "for i in range(6):\n",
    "    layer = cv2.pyrDown(layer)\n",
    "    gp.append(layer)\n",
    "    cv2.imshow((str(i)), layer)\n",
    "    \n",
    "cv2.imshow('Original Image', img)\n",
    "cv2.waitKey()\n",
    "cv2.destroyAllWindows()"
   ]
  },
  {
   "cell_type": "markdown",
   "metadata": {
    "id": "Y3KCX29np1jZ"
   },
   "source": [
    "* Laplacian Pyramids : 이미지를 확장했을 때 원본과의 차이를 저장해 놓는 것\n",
    "\n",
    "ex) Laplacian Pyramids 를 이용하면 이미지를 resize 해도 화질이 깨지지 않도록 할 수 있음"
   ]
  },
  {
   "cell_type": "code",
   "execution_count": null,
   "metadata": {
    "id": "DQ-tUNIyp1jZ"
   },
   "outputs": [],
   "source": [
    "import cv2\n",
    "import numpy as np\n",
    "img = cv2.imread('data/lena.jpg')\n",
    "layer = img.copy()\n",
    "gp = [layer]\n",
    "\n",
    "for i in range(6):\n",
    "    layer = cv2.pyrDown(layer)\n",
    "    gp.append(layer)\n",
    "    #cv2.imshow((str(i)), layer)\n",
    "    \n",
    "layer = gp[5]\n",
    "cv2.imshow('upper level Haussian Pyramid', layer)\n",
    "lp = [layer]\n",
    "\n",
    "for i in range(5, 0, -1):\n",
    "    gaussian_extended = cv2.pyrUp(gp[i])\n",
    "    laplacian = cv2.subtract(gp[i-1], gaussian_extended)\n",
    "    cv2.imshow(str(i), laplacian)\n",
    "    \n",
    "cv2.imshow('Original Image', img)\n",
    "cv2.waitKey()\n",
    "cv2.destroyAllWindows()"
   ]
  },
  {
   "cell_type": "markdown",
   "metadata": {
    "id": "GfZEnbrvp1jZ"
   },
   "source": [
    "---\n",
    "### 11. Image Blending\n",
    "* 두 이미지를 그냥 합쳤을 때"
   ]
  },
  {
   "cell_type": "code",
   "execution_count": null,
   "metadata": {
    "id": "DfEEx6TBp1jZ"
   },
   "outputs": [],
   "source": [
    "import cv2\n",
    "import numpy as np\n",
    "\n",
    "apple = cv2.imread('data/apple.jpg')\n",
    "orange = cv2.imread('data/orange.jpg')\n",
    "print(apple.shape)\n",
    "print(orange.shape)\n",
    "apple_orange = np.hstack((apple[:, :256], orange[:, 256:]))\n",
    "\n",
    "\n",
    "cv2.imshow(\"apple\", apple)\n",
    "cv2.imshow(\"orange\", orange)\n",
    "cv2.imshow(\"apple_orange\", apple_orange)\n",
    "#cv2.imshow(\"apple_orange_reconstruct\", apple_orange_reconstruct)\n",
    "cv2.waitKey(0)\n",
    "cv2.destroyAllWindows()"
   ]
  },
  {
   "cell_type": "markdown",
   "metadata": {
    "id": "GNOe2BHZp1ja"
   },
   "source": [
    "* Image Blending Steps:\n",
    "    * 두 이미지를 불러오기\n",
    "    * 각 이미지의 가우시안 피라미드를 찾기\n",
    "    * 가우시안 피라미드를 통해서 라플라시안 피라미드를 찾기\n",
    "    * 라플라시안 피라미드의 각레벨에 대한 두 이미지를 조합\n",
    "    * ㅈ합한 이미지 피라미드를 통해서 원본 이미지를 다시생성"
   ]
  },
  {
   "cell_type": "code",
   "execution_count": null,
   "metadata": {
    "id": "AULIIPPRp1ja"
   },
   "outputs": [],
   "source": [
    "import cv2\n",
    "import numpy as np\n",
    "apple = cv2.imread('data/apple.jpg')\n",
    "orange = cv2.imread('data/orange.jpg')\n",
    "print(apple.shape)\n",
    "print(orange.shape)\n",
    "apple_orange = np.hstack((apple[:, :256], orange[:, 256:]))\n",
    "\n",
    "# generate Gaussian pyramid for apple\n",
    "apple_copy = apple.copy()\n",
    "gp_apple = [apple_copy]\n",
    "for i in range(6):\n",
    "    apple_copy = cv2.pyrDown(apple_copy)\n",
    "    gp_apple.append(apple_copy)\n",
    "\n",
    "\n",
    "# generate Gaussian pyramid for orange\n",
    "orange_copy = orange.copy()\n",
    "gp_orange = [orange_copy]\n",
    "for i in range(6):\n",
    "    orange_copy = cv2.pyrDown(orange_copy)\n",
    "    gp_orange.append(orange_copy)\n",
    "\n",
    "# generate Laplacian Pyramid for apple\n",
    "apple_copy = gp_apple[5]\n",
    "lp_apple = [apple_copy]\n",
    "for i in range(5, 0, -1):\n",
    "    gaussian_expanded = cv2.pyrUp(gp_apple[i])\n",
    "    laplacian = cv2.subtract(gp_apple[i-1], gaussian_expanded)\n",
    "    lp_apple.append(laplacian)\n",
    "\n",
    "# generate Laplacian Pyramid for orange\n",
    "orange_copy = gp_orange[5]\n",
    "lp_orange = [orange_copy]\n",
    "for i in range(5, 0, -1):\n",
    "    gaussian_expanded = cv2.pyrUp(gp_orange[i])\n",
    "    laplacian = cv2.subtract(gp_orange[i-1], gaussian_expanded)\n",
    "    lp_orange.append(laplacian)\n",
    "\n",
    "# Now add left and right halves of images in each level\n",
    "apple_orange_pyramid = []\n",
    "n = 0\n",
    "for apple_lap, orange_lap in zip(lp_apple, lp_orange):\n",
    "    n += 1\n",
    "    cols, rows, ch = apple_lap.shape\n",
    "    laplacian = np.hstack((apple_lap[:, 0:int(cols/2)], orange_lap[:, int(cols/2):]))\n",
    "    apple_orange_pyramid.append(laplacian)\n",
    "# now reconstruct\n",
    "apple_orange_reconstruct = apple_orange_pyramid[0]\n",
    "for i in range(1, 6):\n",
    "    apple_orange_reconstruct = cv2.pyrUp(apple_orange_reconstruct)\n",
    "    apple_orange_reconstruct = cv2.add(apple_orange_pyramid[i], apple_orange_reconstruct)\n",
    "\n",
    "cv2.imshow(\"apple\", apple)\n",
    "cv2.imshow(\"orange\", orange)\n",
    "cv2.imshow(\"apple_orange\", apple_orange)\n",
    "cv2.imshow(\"apple_orange_reconstruct\", apple_orange_reconstruct)\n",
    "cv2.waitKey(0)\n",
    "cv2.destroyAllWindows()"
   ]
  },
  {
   "cell_type": "markdown",
   "metadata": {
    "id": "q18_ukEwp1ja"
   },
   "source": [
    "---\n",
    "### 12. Contours\n",
    "* 이미지 등치선(Contour)이란 이미지에서 동일한 색이나 강도값을 가지는 포인트를 연결한 모든 연속된 선을 의미\n",
    "* 객체 인식이나 식별을 위해 자주 쓰임\n",
    "* Threshold 나 Canny를 적용해서 바이너리 이미지를 만든 후 그 이미지에서 등차선을 추출할 수 있음\n",
    "\n"
   ]
  },
  {
   "cell_type": "markdown",
   "metadata": {
    "id": "kuH5grNgp1ja"
   },
   "source": [
    "* 검출 모드\n",
    "    - RETR_EXTERNAL: 가장 바깥 외곽선만 검출\n",
    "    - RETR_LIST: 모든 외곽선 검출\n",
    "    - RETR_CCOMP: 2레벨 계층 구조로 외곽선 검출\n",
    "    - RETR_TREE: 트리 구조로 모든 외곽선 검출\n",
    "* 근사화 방법\n",
    "    - CHAIN_APPROX_NONE: 근사화 없음\n",
    "    - CHAIN_APPROX_SIMPLE: 수직선, 수평선, 대각선에 대해 끝점만 사용하여 압축\n",
    "    - CHAIN_APPROX_TC89_L1: Teh & Cain L1 근사화\n",
    "    - CHAIN_APPROX_TC89_KCOS: Teh & Cain k cos 근사화"
   ]
  },
  {
   "cell_type": "code",
   "execution_count": null,
   "metadata": {
    "id": "b3G3XyhHp1ja"
   },
   "outputs": [],
   "source": [
    "import cv2\n",
    "\n",
    "img = cv2.imread('data/opencv-logo.png')\n",
    "imgray = cv2.cvtColor(img, cv2.COLOR_BGR2GRAY)\n",
    "ret, thresh = cv2.threshold(imgray, 70, 255, 0)\n",
    "contours, hierarchy = cv2.findContours(thresh, cv2.RETR_TREE, cv2.CHAIN_APPROX_NONE)\n",
    "#등치선 추출 대상 이미지, 등치선 추출 방식, 등치선 결과에 대한 근사치화 방식\n",
    "print(\"Number of contours = \" + str(len(contours)))\n",
    "print(contours[0])\n",
    "\n",
    "cv2.drawContours(img, contours, -1, (0, 255, 0), 3)\n",
    "cv2.drawContours(imgray, contours, -1, (0, 255, 0), 3)\n",
    "\n",
    "cv2.imshow('Image', img)\n",
    "cv2.imshow('Image GRAY', imgray)\n",
    "cv2.waitKey(0)\n",
    "cv2.destroyAllWindows()"
   ]
  },
  {
   "cell_type": "markdown",
   "metadata": {
    "id": "qqknB6HBp1ja"
   },
   "source": [
    "---\n",
    "### 13. Motion Detection, Motion Tracking"
   ]
  },
  {
   "cell_type": "code",
   "execution_count": null,
   "metadata": {
    "id": "frryw0Pvp1ja"
   },
   "outputs": [],
   "source": [
    "import cv2\n",
    "import numpy as np\n",
    "\n",
    "cap = cv2.VideoCapture('data/vtest.avi')\n",
    "\n",
    "ret, frame1 = cap.read()\n",
    "ret, frame2 = cap.read()\n",
    "\n",
    "while cap.isOpened():\n",
    "    dff = cv2.absdiff(frame1, frame2)\n",
    "    gray = cv2.cvtColor(dff, cv2.COLOR_BGR2GRAY)\n",
    "    blur = cv2.GaussianBlur(gray, (5,5), 0)\n",
    "    _, thresh = cv2.threshold(blur, 20, 255, cv2.THRESH_BINARY)\n",
    "    dilated = cv2.dilate(thresh, None, iterations = 3)\n",
    "    contours, _  = cv2.findContours(dilated, cv2.RETR_TREE, cv2.CHAIN_APPROX_SIMPLE)\n",
    "    \n",
    "    #cv2.drawContours(frame1, contours, -1, (0, 255, 0), 2)\n",
    "    for contour in contours:\n",
    "        (x, y, w, h) = cv2.boundingRect(contour)\n",
    "        if cv2.contourArea(contour) < 900:\n",
    "            continue\n",
    "        cv2.rectangle(frame1, (x,y), (x+w, y+h), (0, 255, 0), 2)\n",
    "        cv2.putText(frame1, 'Status : {}'.format('Movement'),\n",
    "                    (10, 20), cv2.FONT_HERSHEY_SIMPLEX, 1, (0, 0, 255), 3)\n",
    "    \n",
    "    cv2.imshow('feed', frame1)\n",
    "\n",
    "    frame1 = frame2\n",
    "    ret, frame2 = cap.read()\n",
    "    \n",
    "    if cv2.waitKey(40) == 27:\n",
    "        break\n",
    "\n",
    "        \n",
    "cv2.destroyAllWindows()\n",
    "cap.release()"
   ]
  },
  {
   "cell_type": "markdown",
   "metadata": {
    "id": "lkcy4NLEp1ja"
   },
   "source": [
    "---\n",
    "### 14. Detect simple Geometric Shapes\n",
    "* 외곽선 근사화\n",
    "```cv2.approxPolyDp(curve, epsilon, closed, approxCurve=None) -> approxCurve```\n",
    "\n",
    "> curve : 입력 곡선 좌표\n",
    "\n",
    "> epsilon : 근사화 정밀도 조절\n",
    "\n",
    "> closed : True를 전달하면 페곡선으로 간주\n",
    "\n",
    "> approxCurve : 근사화된 곡선 좌표"
   ]
  },
  {
   "cell_type": "code",
   "execution_count": null,
   "metadata": {
    "id": "uzFucNyrp1ja",
    "outputId": "b7eba3ad-b2d2-49de-843e-35536302925e"
   },
   "outputs": [
    {
     "name": "stdout",
     "output_type": "stream",
     "text": [
      "7\n",
      "1.0\n",
      "1.0\n",
      "1.8793103448275863\n"
     ]
    }
   ],
   "source": [
    "import numpy as np\n",
    "import cv2\n",
    "\n",
    "img = cv2.imread('data/shapes.jpg')\n",
    "imgGrey = cv2.cvtColor(img, cv2.COLOR_BGR2GRAY)\n",
    "_, thrash = cv2.threshold(imgGrey, 220, 255, cv2.THRESH_BINARY)\n",
    "contours, _ = cv2.findContours(thrash, cv2.RETR_TREE, cv2.CHAIN_APPROX_NONE)\n",
    "print(len(contours))\n",
    "cv2.imshow(\"img\", img)\n",
    "for contour in contours:\n",
    "    approx = cv2.approxPolyDP(contour, 0.01* cv2.arcLength(contour, True), True)\n",
    "    cv2.drawContours(img, [approx], 0, (0, 0, 0), 5)\n",
    "    x = approx.ravel()[0]\n",
    "    y = approx.ravel()[1] - 5\n",
    "    if len(approx) == 3:\n",
    "        cv2.putText(img, \"Triangle\", (x, y), cv2.FONT_HERSHEY_COMPLEX, 0.5, (0, 0, 0))\n",
    "    elif len(approx) == 4:\n",
    "        x1 ,y1, w, h = cv2.boundingRect(approx)\n",
    "        aspectRatio = float(w)/h\n",
    "        print(aspectRatio)\n",
    "        if aspectRatio >= 0.95 and aspectRatio <= 1.05:\n",
    "            cv2.putText(img, \"square\", (x, y), cv2.FONT_HERSHEY_COMPLEX, 0.5, (0, 0, 0))\n",
    "        else:\n",
    "            cv2.putText(img, \"rectangle\", (x, y), cv2.FONT_HERSHEY_COMPLEX, 0.5, (0, 0, 0))\n",
    "    elif len(approx) == 5:\n",
    "        cv2.putText(img, \"Pentagon\", (x, y), cv2.FONT_HERSHEY_COMPLEX, 0.5, (0, 0, 0))\n",
    "    elif len(approx) == 10:\n",
    "        cv2.putText(img, \"Star\", (x, y), cv2.FONT_HERSHEY_COMPLEX, 0.5, (0, 0, 0))\n",
    "    else:\n",
    "        cv2.putText(img, \"Circle\", (x, y), cv2.FONT_HERSHEY_COMPLEX, 0.5, (0, 0, 0))\n",
    "\n",
    "\n",
    "cv2.imshow(\"shapes\", img)\n",
    "cv2.waitKey(0)\n",
    "cv2.destroyAllWindows()"
   ]
  },
  {
   "cell_type": "markdown",
   "metadata": {
    "id": "8CW05PSsp1jb"
   },
   "source": [
    "---\n",
    "### 15. Geometric Transformation\n",
    "* 영상을 구성하는 픽셀의 배치 구조를 변경함으로써 전체 영상의 모양을 바꾸는 작업\n"
   ]
  },
  {
   "cell_type": "code",
   "execution_count": null,
   "metadata": {
    "id": "8nYN_6Hfp1jb"
   },
   "outputs": [],
   "source": [
    "import cv2\n",
    "import numpy as np\n",
    "\n",
    "img = cv2.imread('data/messi5.jpg',0)\n",
    "rows,cols = img.shape\n",
    "\n",
    "M1 = np.float32([[1,0,100],[0,1,50]])\n",
    "dst1 = cv2.warpAffine(img,M1,(cols,rows))\n",
    "\n",
    "M2 = cv2.getRotationMatrix2D((cols/2,rows/2),90,1)\n",
    "dst2 = cv2.warpAffine(img,M2,(cols,rows))\n",
    "\n",
    "cv2.imshow('img',img)\n",
    "cv2.imshow('dst1',dst1)\n",
    "cv2.imshow('dst2',dst2)\n",
    "cv2.waitKey(0)\n",
    "cv2.destroyAllWindows()"
   ]
  },
  {
   "cell_type": "markdown",
   "metadata": {
    "id": "emBqnYPXp1jb"
   },
   "source": [
    "* Projective Transformations : 원근감 표현, 4점 필요\n",
    "* Affine Transformations : 평행을 이용, 3점 필요"
   ]
  },
  {
   "cell_type": "code",
   "execution_count": null,
   "metadata": {
    "id": "Ge_NJJrEp1jb",
    "outputId": "754b5a59-f61b-4f37-c7a4-2f5c6e2fbe40"
   },
   "outputs": [
    {
     "data": {
      "image/png": "[encoded data removed]",
      "text/plain": [
       "<IPython.core.display.Image object>"
      ]
     },
     "execution_count": 24,
     "metadata": {
      "tags": []
     },
     "output_type": "execute_result"
    }
   ],
   "source": [
    "from IPython.display import Image \n",
    "Image(\"data/geotrans.png\")"
   ]
  },
  {
   "cell_type": "code",
   "execution_count": null,
   "metadata": {
    "id": "y8tBZr1Up1jb",
    "outputId": "33cf292f-d899-4328-a14f-a09e46cb89d1"
   },
   "outputs": [
    {
     "data": {
      "image/png": "[encoded data removed]",
      "text/plain": [
       "<Figure size 432x288 with 2 Axes>"
      ]
     },
     "metadata": {
      "needs_background": "light",
      "tags": []
     },
     "output_type": "display_data"
    }
   ],
   "source": [
    "import cv2\n",
    "import numpy as np\n",
    "from matplotlib import pyplot as plt\n",
    "img = cv2.imread('data/sudoku.png')\n",
    "rows,cols,ch = img.shape\n",
    "pts1 = np.float32([[56,65],[368,52],[28,387],[389,390]])\n",
    "pts2 = np.float32([[0,0],[300,0],[0,300],[300,300]])\n",
    "M = cv2.getPerspectiveTransform(pts1,pts2)\n",
    "dst = cv2.warpPerspective(img,M,(300,300))\n",
    "plt.subplot(121),plt.imshow(img),plt.title('Input')\n",
    "plt.subplot(122),plt.imshow(dst),plt.title('Output')\n",
    "plt.show()"
   ]
  },
  {
   "cell_type": "code",
   "execution_count": null,
   "metadata": {
    "id": "eg8Dkuzpp1jb",
    "outputId": "00721a2d-ac87-4cce-a2b9-436422315162"
   },
   "outputs": [
    {
     "data": {
      "image/png": "[encoded data removed]",
      "text/plain": [
       "<Figure size 432x288 with 2 Axes>"
      ]
     },
     "metadata": {
      "needs_background": "light",
      "tags": []
     },
     "output_type": "display_data"
    }
   ],
   "source": [
    "img = cv2.imread('data/drawing.png')\n",
    "rows,cols,ch = img.shape\n",
    "\n",
    "pts1 = np.float32([[50,50],[200,50],[50,200]])\n",
    "pts2 = np.float32([[10,100],[200,50],[100,250]])\n",
    "\n",
    "M = cv2.getAffineTransform(pts1,pts2)\n",
    "\n",
    "\n",
    "dst = cv2.warpAffine(img,M,(cols,rows))\n",
    "\n",
    "plt.subplot(121),plt.imshow(img),plt.title('Input')\n",
    "plt.subplot(122),plt.imshow(dst),plt.title('Output')\n",
    "plt.show()"
   ]
  },
  {
   "cell_type": "markdown",
   "metadata": {
    "id": "Zpg9rz5gtkgr"
   },
   "source": [
    "---\n",
    "16. 얼굴 검출\n"
   ]
  },
  {
   "cell_type": "code",
   "execution_count": 7,
   "metadata": {
    "colab": {
     "base_uri": "https://localhost:8080/",
     "height": 406
    },
    "executionInfo": {
     "elapsed": 1015,
     "status": "error",
     "timestamp": 1617939746646,
     "user": {
      "displayName": "조성호",
      "photoUrl": "",
      "userId": "12136408784003672103"
     },
     "user_tz": -540
    },
    "id": "G9gGRmYitpmg",
    "outputId": "5d1010f1-cea8-46f4-deae-689f0d6d1b0f"
   },
   "outputs": [
    {
     "data": {
      "image/png": "[encoded data removed]",
      "text/plain": [
       "<Figure size 432x288 with 1 Axes>"
      ]
     },
     "metadata": {},
     "output_type": "display_data"
    }
   ],
   "source": [
    "import cv2\n",
    "from matplotlib import pyplot as plt\n",
    "faceCascade= cv2.CascadeClassifier(\"data/haarcascade_frontalface_default.xml\")\n",
    "\n",
    "img = cv2.imread('data/lena.jpg')\n",
    "imgGray = cv2.cvtColor(img,cv2.COLOR_BGR2GRAY)\n",
    " \n",
    "faces = faceCascade.detectMultiScale(imgGray,1.1,4)\n",
    " \n",
    "for (x,y,w,h) in faces:\n",
    "    cv2.rectangle(img,(x,y),(x+w,y+h),(255,0,0),2)\n",
    "\n",
    "img = cv2.cvtColor(img, cv2.COLOR_BGR2RGB)\n",
    "\n",
    "plt.imshow(img)\n",
    "plt.xticks([]), plt.yticks([])\n",
    "plt.show()"
   ]
  },
  {
   "cell_type": "code",
   "execution_count": null,
   "metadata": {},
   "outputs": [],
   "source": [
    "import cv2\n",
    "import numpy as np\n",
    " \n",
    "###################################\n",
    "widthImg=540\n",
    "heightImg =640\n",
    "#####################################\n",
    " \n",
    "cap = cv2.VideoCapture(0)\n",
    "cap.set(10,150)\n",
    " \n",
    "def preProcessing(img):\n",
    "    imgGray = cv2.cvtColor(img,cv2.COLOR_BGR2GRAY)\n",
    "    imgBlur = cv2.GaussianBlur(imgGray,(5,5),1)\n",
    "    imgCanny = cv2.Canny(imgBlur,200,200)\n",
    "    kernel = np.ones((5,5))\n",
    "    imgDial = cv2.dilate(imgCanny,kernel,iterations=2)\n",
    "    imgThres = cv2.erode(imgDial,kernel,iterations=1)\n",
    "    return imgThres\n",
    " \n",
    "def getContours(img):\n",
    "    biggest = np.array([])\n",
    "    maxArea = 0\n",
    "    contours,hierarchy = cv2.findContours(img,cv2.RETR_EXTERNAL,cv2.CHAIN_APPROX_NONE)\n",
    "    for cnt in contours:\n",
    "        area = cv2.contourArea(cnt)\n",
    "        if area>5000:\n",
    "            #cv2.drawContours(imgContour, cnt, -1, (255, 0, 0), 3)\n",
    "            peri = cv2.arcLength(cnt,True)\n",
    "            approx = cv2.approxPolyDP(cnt,0.02*peri,True)\n",
    "            if area >maxArea and len(approx) == 4:\n",
    "                biggest = approx\n",
    "                maxArea = area\n",
    "    cv2.drawContours(imgContour, biggest, -1, (255, 0, 0), 20)\n",
    "    return biggest\n",
    " \n",
    "def reorder (myPoints):\n",
    "    myPoints = myPoints.reshape((4,2))\n",
    "    myPointsNew = np.zeros((4,1,2),np.int32)\n",
    "    add = myPoints.sum(1)\n",
    "    #print(\"add\", add)\n",
    "    myPointsNew[0] = myPoints[np.argmin(add)]\n",
    "    myPointsNew[3] = myPoints[np.argmax(add)]\n",
    "    diff = np.diff(myPoints,axis=1)\n",
    "    myPointsNew[1]= myPoints[np.argmin(diff)]\n",
    "    myPointsNew[2] = myPoints[np.argmax(diff)]\n",
    "    #print(\"NewPoints\",myPointsNew)\n",
    "    return myPointsNew\n",
    " \n",
    "def getWarp(img,biggest):\n",
    "    biggest = reorder(biggest)\n",
    "    pts1 = np.float32(biggest)\n",
    "    pts2 = np.float32([[0, 0], [widthImg, 0], [0, heightImg], [widthImg, heightImg]])\n",
    "    matrix = cv2.getPerspectiveTransform(pts1, pts2)\n",
    "    imgOutput = cv2.warpPerspective(img, matrix, (widthImg, heightImg))\n",
    " \n",
    "    imgCropped = imgOutput[20:imgOutput.shape[0]-20,20:imgOutput.shape[1]-20]\n",
    "    imgCropped = cv2.resize(imgCropped,(widthImg,heightImg))\n",
    " \n",
    "    return imgCropped\n",
    " \n",
    "def stackImages(scale,imgArray):\n",
    "    rows = len(imgArray)\n",
    "    cols = len(imgArray[0])\n",
    "    rowsAvailable = isinstance(imgArray[0], list)\n",
    "    width = imgArray[0][0].shape[1]\n",
    "    height = imgArray[0][0].shape[0]\n",
    "    if rowsAvailable:\n",
    "        for x in range ( 0, rows):\n",
    "            for y in range(0, cols):\n",
    "                if imgArray[x][y].shape[:2] == imgArray[0][0].shape [:2]:\n",
    "                    imgArray[x][y] = cv2.resize(imgArray[x][y], (0, 0), None, scale, scale)\n",
    "                else:\n",
    "                    imgArray[x][y] = cv2.resize(imgArray[x][y], (imgArray[0][0].shape[1], imgArray[0][0].shape[0]), None, scale, scale)\n",
    "                if len(imgArray[x][y].shape) == 2: imgArray[x][y]= cv2.cvtColor( imgArray[x][y], cv2.COLOR_GRAY2BGR)\n",
    "        imageBlank = np.zeros((height, width, 3), np.uint8)\n",
    "        hor = [imageBlank]*rows\n",
    "        hor_con = [imageBlank]*rows\n",
    "        for x in range(0, rows):\n",
    "            hor[x] = np.hstack(imgArray[x])\n",
    "        ver = np.vstack(hor)\n",
    "    else:\n",
    "        for x in range(0, rows):\n",
    "            if imgArray[x].shape[:2] == imgArray[0].shape[:2]:\n",
    "                imgArray[x] = cv2.resize(imgArray[x], (0, 0), None, scale, scale)\n",
    "            else:\n",
    "                imgArray[x] = cv2.resize(imgArray[x], (imgArray[0].shape[1], imgArray[0].shape[0]), None,scale, scale)\n",
    "            if len(imgArray[x].shape) == 2: imgArray[x] = cv2.cvtColor(imgArray[x], cv2.COLOR_GRAY2BGR)\n",
    "        hor= np.hstack(imgArray)\n",
    "        ver = hor\n",
    "    return ver\n",
    " \n",
    "while True:\n",
    "    success, img = cap.read()\n",
    "    img = cv2.resize(img,(widthImg,heightImg))\n",
    "    imgContour = img.copy()\n",
    " \n",
    "    imgThres = preProcessing(img)\n",
    "    biggest = getContours(imgThres)\n",
    "    if biggest.size !=0:\n",
    "        imgWarped=getWarp(img,biggest)\n",
    "        # imageArray = ([img,imgThres],\n",
    "        #           [imgContour,imgWarped])\n",
    "        imageArray = ([imgContour, imgWarped])\n",
    "        cv2.imshow(\"ImageWarped\", imgWarped)\n",
    "    else:\n",
    "        # imageArray = ([img, imgThres],\n",
    "        #               [img, img])\n",
    "        imageArray = ([imgContour, img])\n",
    " \n",
    "    stackedImages = stackImages(0.6,imageArray)\n",
    "    cv2.imshow(\"WorkFlow\", stackedImages)\n",
    " \n",
    "    if cv2.waitKey(1) and 0xFF == ord('q'):\n",
    "        break\n",
    "\n",
    "cv2.destroyAllWindows()"
   ]
  },
  {
   "cell_type": "markdown",
   "metadata": {
    "id": "zFAvE9ynr7ma"
   },
   "source": [
    "## Practice"
   ]
  },
  {
   "cell_type": "markdown",
   "metadata": {
    "id": "QZ3KBCnosdEH"
   },
   "source": [
    "1.Resize and Crop\n",
    "- Resize\n",
    "- Crop\n",
    "한 이미지를 불러와서 위의 요소들이 각각 무엇을 의미하는지 주석으로 설명하고 코드로 작성하여 출력하시오.\n"
   ]
  },
  {
   "cell_type": "code",
   "execution_count": null,
   "metadata": {
    "id": "A3xUxCq3sZZr"
   },
   "outputs": [],
   "source": [
    "import cv2\n",
    "#Code here"
   ]
  },
  {
   "cell_type": "markdown",
   "metadata": {
    "id": "uxJcywwAr_wz"
   },
   "source": [
    "2. 기본 함수\n",
    "- GaussianBlur\n",
    "- Canny\n",
    "- dilate\n",
    "- erode\n",
    "\n",
    "한 이미지를 불러와서 위의 요소들이 각각 무엇을 의미하는지 주석으로 설명하고 코드로 작성하여 출력하시오."
   ]
  },
  {
   "cell_type": "code",
   "execution_count": null,
   "metadata": {
    "id": "zs1OO_HDp1jc"
   },
   "outputs": [],
   "source": [
    "import cv2\n",
    "#Code here"
   ]
  },
  {
   "cell_type": "markdown",
   "metadata": {
    "id": "BPqedi5htFWt"
   },
   "source": [
    "3. Warp Perspective\n",
    "\n",
    "기울어진 사진을 정사각형으로 똑바르게 펴는 코드를 작성하시오."
   ]
  },
  {
   "cell_type": "code",
   "execution_count": null,
   "metadata": {
    "id": "gQ8-pWNmtE1Q"
   },
   "outputs": [],
   "source": [
    "import cv2\n",
    "#Code here"
   ]
  },
  {
   "cell_type": "markdown",
   "metadata": {},
   "source": [
    "4. Eye detection\n",
    "\n",
    "lena.jpg 에서 눈을 검출하고 사각형 치시오."
   ]
  },
  {
   "cell_type": "code",
   "execution_count": null,
   "metadata": {},
   "outputs": [],
   "source": [
    "import cv2\n",
    "#Code here"
   ]
  }
 ],
 "metadata": {
  "colab": {
   "collapsed_sections": [
    "lVt2lfXtp1jU",
    "zzirt34bp1jV",
    "6RQW6Mptp1jV",
    "td5Xue94p1jW",
    "OQjd7EOyp1jW",
    "BPq2J1u_p1jX",
    "Vap3b8Khp1jY",
    "sKcWgwuRp1jY",
    "DO8Zf-Kgp1jY",
    "GfZEnbrvp1jZ",
    "q18_ukEwp1ja",
    "qqknB6HBp1ja",
    "lkcy4NLEp1ja"
   ],
   "name": "OpenCV_3강.ipynb",
   "provenance": []
  },
  "kernelspec": {
   "display_name": "OpenCV",
   "language": "python",
   "name": "opencv"
  },
  "language_info": {
   "codemirror_mode": {
    "name": "ipython",
    "version": 3
   },
   "file_extension": ".py",
   "mimetype": "text/x-python",
   "name": "python",
   "nbconvert_exporter": "python",
   "pygments_lexer": "ipython3",
   "version": "3.8.8"
  }
 },
 "nbformat": 4,
 "nbformat_minor": 1
}
