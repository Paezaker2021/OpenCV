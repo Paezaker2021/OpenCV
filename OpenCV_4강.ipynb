{
 "cells": [
  {
   "cell_type": "markdown",
   "metadata": {
    "id": "1IcH9ufJF3D8"
   },
   "source": [
    "# Python OpenCV 입문 - 번호판 검출 및 인식 I - Binarization\n",
    "## 객체 검출\n",
    "* 검출 과정\n",
    "    1. 이진화(Binarization)\n",
    "    2. 모서리 검출 및 다각형 근사화\n",
    "    3. 투영 변환\n",
    "    4. 광학 문자 인식(OCR)"
   ]
  },
  {
   "cell_type": "markdown",
   "metadata": {
    "id": "Cm7Te8fzp2Jg"
   },
   "source": [
    "0. 데이터 불러오기"
   ]
  },
  {
   "cell_type": "code",
   "execution_count": null,
   "metadata": {
    "id": "tHlr6uUyp2Jg"
   },
   "outputs": [],
   "source": [
    "import sys\n",
    "import cv2\n",
    "\n",
    "src = cv2.imread('data/car.jpg')\n",
    "\n",
    "if src is None:\n",
    "    print('image load failed')\n",
    "    sys.exit()\n",
    "\n",
    "src = cv2.resize(src, (0, 0), fx = 0.5, fy = 0.5)\n",
    "\n",
    "src_gray = cv2.cvtColor(src, cv2.COLOR_BGR2GRAY)\n",
    "\n",
    "cv2.imshow('src_gray', src_gray)\n",
    "cv2.waitKey()\n",
    "cv2.destroyAllWindows()"
   ]
  },
  {
   "cell_type": "markdown",
   "metadata": {
    "id": "Z-fKFbVsp2Jg"
   },
   "source": [
    "1, 이진화"
   ]
  },
  {
   "cell_type": "code",
   "execution_count": null,
   "metadata": {
    "id": "yhr7uyzjp2Jh",
    "outputId": "d81bec8f-fa86-48de-bd2f-9825ba25f37f"
   },
   "outputs": [],
   "source": [
    "import sys\n",
    "import cv2\n",
    "\n",
    "src = cv2.imread('data/car.jpg')\n",
    "\n",
    "if src is None:\n",
    "    print('image load failed')\n",
    "    sys.exit()\n",
    "\n",
    "src = cv2.resize(src, (0, 0), fx = 0.5, fy = 0.5)\n",
    "\n",
    "src_gray = cv2.cvtColor(src, cv2.COLOR_BGR2GRAY)\n",
    "\n",
    "th, src_bin = cv2.threshold(src_gray, 0, 255, cv2.THRESH_BINARY | cv2.THRESH_OTSU)\n",
    "print(th)\n",
    "\n",
    "cv2.imshow('src_bin', src_bin)\n",
    "cv2.waitKey()\n",
    "cv2.destroyAllWindows()"
   ]
  },
  {
   "cell_type": "markdown",
   "metadata": {
    "id": "A6qa_QlFp2Jh"
   },
   "source": [
    "2. 모서리 검출 및 다각형 근사화\n",
    "3. 투영 변환"
   ]
  },
  {
   "cell_type": "code",
   "execution_count": null,
   "metadata": {
    "id": "KurL8_8VQuVS",
    "outputId": "4cd22ce0-b706-4c37-d2b6-4de03a54b7c4"
   },
   "outputs": [
    {
     "name": "stdout",
     "output_type": "stream",
     "text": [
      "\f",
      "\n",
      "\f",
      "\n"
     ]
    }
   ],
   "source": [
    "import sys\n",
    "import numpy as np\n",
    "import cv2\n",
    "\n",
    "def reorderPts(pts):\n",
    "    idx = np.lexsort((pts[:, 1], pts[:, 0]))  # 칼럼0 -> 칼럼1 순으로 정렬한 인덱스를 반환\n",
    "    pts = pts[idx]  # x좌표로 정렬\n",
    "\n",
    "    if pts[0, 1] > pts[1, 1]:\n",
    "        pts[[0, 1]] = pts[[1, 0]]\n",
    "\n",
    "    if pts[2, 1] < pts[3, 1]:\n",
    "        pts[[2, 3]] = pts[[3, 2]]\n",
    "\n",
    "    return pts\n",
    "\n",
    "\n",
    "# 이미지 불러오기\n",
    "src = cv2.imread('data/car.jpg')\n",
    "\n",
    "if src is None:\n",
    "    print('Image load failed!')\n",
    "    sys.exit()\n",
    "\n",
    "# 출력 영상 설정\n",
    "dw, dh = 520, 110\n",
    "srcQuad = np.array([[0, 0], [0, 0], [0, 0], [0, 0]], np.float32)\n",
    "dstQuad = np.array([[0, 0], [0, dh], [dw, dh], [dw, 0]], np.float32)\n",
    "dst = np.zeros((dh, dw), np.uint8)\n",
    "\n",
    "# 입력 영상 전처리\n",
    "src_gray = cv2.cvtColor(src, cv2.COLOR_BGR2GRAY)\n",
    "th, src_bin = cv2.threshold(src_gray, 0, 255, cv2.THRESH_BINARY | cv2.THRESH_OTSU)\n",
    "\n",
    "# 외곽선 검출 및 번호판 검출\n",
    "contours, _ = cv2.findContours(src_bin, cv2.RETR_EXTERNAL, cv2.CHAIN_APPROX_NONE)\n",
    "\n",
    "for pts in contours:\n",
    "    # 너무 작은 객체는 제외\n",
    "    if cv2.contourArea(pts) < 2500:\n",
    "        continue\n",
    "\n",
    "    # 외곽선 근사화\n",
    "    approx = cv2.approxPolyDP(pts, cv2.arcLength(pts, True)*0.02, True)\n",
    "\n",
    "    # 컨벡스가 아니면 제외\n",
    "    if not cv2.isContourConvex(approx) or len(approx) != 4:\n",
    "        continue\n",
    "\n",
    "    #print(len(approx))\n",
    "\n",
    "    cv2.polylines(src, [approx], True, (0, 255, 0), 2, cv2.LINE_AA)\n",
    "    srcQuad = reorderPts(approx.reshape(4, 2).astype(np.float32))\n",
    "\n",
    "    pers = cv2.getPerspectiveTransform(srcQuad, dstQuad)\n",
    "    dst = cv2.warpPerspective(src, pers, (dw, dh), flags=cv2.INTER_CUBIC)\n",
    "\n",
    "    dst_rgb = cv2.cvtColor(dst, cv2.COLOR_BGR2RGB)\n",
    "\n",
    "cv2.imshow('src', src)\n",
    "cv2.imshow('src_gray', src_gray)\n",
    "cv2.imshow('src_bin', src_bin)\n",
    "cv2.imshow('dst', dst)\n",
    "cv2.waitKey()\n",
    "cv2.destroyAllWindows()\n",
    "\n",
    "\n",
    "def reorderPts(pts):\n",
    "    idx = np.lexsort((pts[:, 1], pts[:, 0])) \n",
    "    pts = pts[idx]\n",
    "    if pts[0, 1] > pts[1, 1]:\n",
    "        pts[[0, 1]] = pts[[1, 0]]\n",
    "\n",
    "    if pts[2, 1] < pts[3, 1]:\n",
    "        pts[[2, 3]] = pts[[3, 2]]\n",
    "\n",
    "    return pts\n"
   ]
  },
  {
   "cell_type": "markdown",
   "metadata": {
    "id": "rM-KivQGp2Ji"
   },
   "source": [
    "4. 광학 문자 인식(OCR)\n",
    "    * tesseract 사용"
   ]
  },
  {
   "cell_type": "code",
   "execution_count": null,
   "metadata": {
    "id": "i3hKiU30p2Ji",
    "outputId": "6bae216c-a0cf-4b59-d6af-57442e0ce2f3"
   },
   "outputs": [],
   "source": [
    "!pip install pytesseract"
   ]
  },
  {
   "cell_type": "code",
   "execution_count": null,
   "metadata": {
    "id": "c6hnS9LRp2Ji",
    "outputId": "4e2d29f5-c6ec-422f-b4b0-90bd95f65205"
   },
   "outputs": [
    {
     "name": "stdout",
     "output_type": "stream",
     "text": [
      "ln MI OO LD A Af\n",
      "\n",
      "6 i\n",
      "; WARNING |\n",
      "ee we rw\n",
      "\f",
      "\n"
     ]
    }
   ],
   "source": [
    "import cv2\n",
    "img = cv2.imread('data/tesser2.jpg')\n",
    "cv2.imshow('img',img)\n",
    "print(pytesseract.image_to_string(img, lang='Hangul+eng'))\n",
    "cv2.waitKey()\n",
    "cv2.destroyAllWindows()"
   ]
  },
  {
   "cell_type": "code",
   "execution_count": null,
   "metadata": {
    "id": "Wldd5WnBp2Ji"
   },
   "outputs": [],
   "source": [
    "import sys\n",
    "import numpy as np\n",
    "import cv2\n",
    "import pytesseract\n",
    "\n",
    "\n",
    "def reorderPts(pts):\n",
    "    idx = np.lexsort((pts[:, 1], pts[:, 0]))  # 칼럼0 -> 칼럼1 순으로 정렬한 인덱스를 반환\n",
    "    pts = pts[idx]  # x좌표로 정렬\n",
    "\n",
    "    if pts[0, 1] > pts[1, 1]:\n",
    "        pts[[0, 1]] = pts[[1, 0]]\n",
    "\n",
    "    if pts[2, 1] < pts[3, 1]:\n",
    "        pts[[2, 3]] = pts[[3, 2]]\n",
    "\n",
    "    return pts\n",
    "\n",
    "\n",
    "# 이미지 불러오기\n",
    "src = cv2.imread('data/car.jpg')\n",
    "\n",
    "if src is None:\n",
    "    print('Image load failed!')\n",
    "    sys.exit()\n",
    "\n",
    "# 출력 영상 설정\n",
    "dw, dh = 520, 110\n",
    "srcQuad = np.array([[0, 0], [0, 0], [0, 0], [0, 0]], np.float32)\n",
    "dstQuad = np.array([[0, 0], [0, dh], [dw, dh], [dw, 0]], np.float32)\n",
    "dst = np.zeros((dh, dw), np.uint8)\n",
    "\n",
    "# 입력 영상 전처리\n",
    "src_gray = cv2.cvtColor(src, cv2.COLOR_BGR2GRAY)\n",
    "th, src_bin = cv2.threshold(src_gray, 0, 255, cv2.THRESH_BINARY | cv2.THRESH_OTSU)\n",
    "\n",
    "# 외곽선 검출 및 번호판 검출\n",
    "contours, _ = cv2.findContours(src_bin, cv2.RETR_EXTERNAL, cv2.CHAIN_APPROX_NONE)\n",
    "\n",
    "for pts in contours:\n",
    "    # 너무 작은 객체는 제외\n",
    "    if cv2.contourArea(pts) < 2500:\n",
    "        continue\n",
    "\n",
    "    # 외곽선 근사화\n",
    "    approx = cv2.approxPolyDP(pts, cv2.arcLength(pts, True)*0.02, True)\n",
    "\n",
    "    # 컨벡스가 아니면 제외\n",
    "    if not cv2.isContourConvex(approx) or len(approx) != 4:\n",
    "        continue\n",
    "\n",
    "    #print(len(approx))\n",
    "\n",
    "    cv2.polylines(src, [approx], True, (0, 255, 0), 2, cv2.LINE_AA)\n",
    "    srcQuad = reorderPts(approx.reshape(4, 2).astype(np.float32))\n",
    "\n",
    "    pers = cv2.getPerspectiveTransform(srcQuad, dstQuad)\n",
    "    dst = cv2.warpPerspective(src, pers, (dw, dh), flags=cv2.INTER_CUBIC)\n",
    "\n",
    "    dst_rgb = cv2.cvtColor(dst, cv2.COLOR_BGR2RGB)\n",
    "    print(pytesseract.image_to_string(dst_rgb, lang='Hangul+eng'))\n",
    "\n",
    "#cv2.imshow('src', src)\n",
    "#cv2.imshow('src_gray', src_gray)\n",
    "#cv2.imshow('src_bin', src_bin)\n",
    "cv2.imshow('dst', dst)\n",
    "cv2.waitKey()\n",
    "cv2.destroyAllWindows()\n",
    "\n",
    "\n",
    "print(pytesseract.image_to_string(dst, lang='Hangul+eng'))\n",
    "\n",
    "def reorderPts(pts):\n",
    "    idx = np.lexsort((pts[:, 1], pts[:, 0])) \n",
    "    pts = pts[idx]\n",
    "    if pts[0, 1] > pts[1, 1]:\n",
    "        pts[[0, 1]] = pts[[1, 0]]\n",
    "\n",
    "    if pts[2, 1] < pts[3, 1]:\n",
    "        pts[[2, 3]] = pts[[3, 2]]\n",
    "\n",
    "    return pts\n"
   ]
  }
 ],
 "metadata": {
  "colab": {
   "collapsed_sections": [],
   "name": "OpenCV_4강.ipynb",
   "provenance": [],
   "toc_visible": true
  },
  "kernelspec": {
   "display_name": "FaceRecognition",
   "language": "python",
   "name": "facerecognition"
  },
  "language_info": {
   "codemirror_mode": {
    "name": "ipython",
    "version": 3
   },
   "file_extension": ".py",
   "mimetype": "text/x-python",
   "name": "python",
   "nbconvert_exporter": "python",
   "pygments_lexer": "ipython3",
   "version": "3.8.8"
  }
 },
 "nbformat": 4,
 "nbformat_minor": 1
}
